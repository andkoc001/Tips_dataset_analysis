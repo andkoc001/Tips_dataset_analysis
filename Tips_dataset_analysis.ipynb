{
 "cells": [
  {
   "cell_type": "markdown",
   "metadata": {},
   "source": [
    "# Tips dataset analysis"
   ]
  },
  {
   "cell_type": "markdown",
   "metadata": {},
   "source": [
    "Description: Fundamentals of Data Analysis - assignment project, GMIT 2019. See README.md for more background info.\n",
    "\n",
    ">Author: **Andrzej Kocielski**  \n",
    ">Github: [andkoc001](https://github.com/andkoc001/)  \n",
    ">Email: G00376291@gmit.ie, and.koc001@gmail.com\n",
    "\n",
    "Date of creation: 23-09-2019\n",
    "\n",
    "This Notebook should be read in conjunction with the corresponding README.md file at the assignment repository at GitHub: <https://github.com/andkoc001/Tips_dataset_analysis/>.\n",
    "\n",
    "___"
   ]
  },
  {
   "cell_type": "markdown",
   "metadata": {},
   "source": [
    "## Introduction"
   ]
  },
  {
   "cell_type": "markdown",
   "metadata": {},
   "source": [
    "### The Analysis\n",
    "This Notebook presents my analysis and interpretation of the _**tips dataset**_. This is done through the following:\n",
    "1. descriptive statistics of the raw data,\n",
    "2. graphical representation of the data - plots,\n",
    "3. inference of the implicit information by application of selected tools, methods and algorithms used in data analytics.\n"
   ]
  },
  {
   "cell_type": "markdown",
   "metadata": {},
   "source": [
    "### The data\n",
    "\n",
    "It is a common custom to offer some small extra money - a tip - to the staff of a restaurant on top of the bill after a satisfactory service received. Although the tips are voluntary, and the amount of the tips is not (usually) stated, by convention it is often advised to leave as a certain percent (e.g. 10%) of the total bill for the meal and service. \n",
    "\n",
    "The _tips dataset_ (being analysed in this Notebook) is a representation of tips given in a restaurant. The dataset in question is a record (allegedly real and true) of tips given along with total bills of a restaurant customers collated by a waiter working in the restaurant for several weeks. \n",
    "\n",
    "The data is organised in a form of an array, where the dataset attributes (aka features) are organised in columns, and the observations (aka instances) - in rows. The dataset consists of several data categories describing tips received in connection to circumstances, such as day of the week, gender of the tipper, etc. The data set includes 244 data observations.\n",
    "\n",
    "The _tips dataset_ is integrated with the [Seaborn](https://seaborn.pydata.org/) - an external Python package for data visualisation. This dataset from this source will be used in the subsequent analysis. The dataset, however, can be also obtained from other sources, for example as a .csv file from [here](http://vincentarelbundock.github.io/Rdatasets/datasets.html)."
   ]
  },
  {
   "cell_type": "markdown",
   "metadata": {},
   "source": [
    "### Hypothesis\n",
    "\n",
    "The dataset provokes to ask the following question: **Is there a consistent linear relationship between _total bill_ and _amount of tip_?**\n",
    "\n",
    "Below we will try to find evidences either supporting or the opposite this hypothesis. I will also delve deeper into the question and seek whether I could distinguish such a relationship considering other parameters, such as among smokers and non-smokers. "
   ]
  },
  {
   "cell_type": "markdown",
   "metadata": {},
   "source": [
    "###  Assumptions\n",
    "\n",
    "* The data is accurate.\n",
    "* The gender and the smoker refers to the person in the group, who payed the bill and left the tip.\n",
    "* Currency is irrelevant.\n",
    "* Any other information that might be normally applicable to bill-tip relationship (e.g. country, legislation and regulations, time of the year, etc.) and is not included in the dataset is irrelevant."
   ]
  },
  {
   "cell_type": "markdown",
   "metadata": {},
   "source": [
    "___\n",
    "## Setting up the environment"
   ]
  },
  {
   "cell_type": "markdown",
   "metadata": {},
   "source": [
    "### Importing additional packages  "
   ]
  },
  {
   "cell_type": "markdown",
   "metadata": {},
   "source": [
    "The analysis will be conducted using numerical tools, specifically **Python** programming language. On top of that, I am going to use add-on Python libraries - **NumPy** (for numerical calculations), **Pandas** (for convenient data structures - DataFrames), as well as visualisation libraries - **Matplotlib** (its pyplot sub-library) and **Seaborn**."
   ]
  },
  {
   "cell_type": "code",
   "execution_count": 1,
   "metadata": {},
   "outputs": [],
   "source": [
    "# numerical calculations libraries, assigning aliases\n",
    "import numpy as np\n",
    "import pandas as pd\n",
    "\n",
    "# plotting and data visualisation libraries, assigning aliases\n",
    "import matplotlib.pyplot as plt\n",
    "import seaborn as sns\n",
    "\n",
    "# below command will allow for the plots being displayed inside the Notebook, rather than in a separate screen.\n",
    "%matplotlib inline"
   ]
  },
  {
   "cell_type": "markdown",
   "metadata": {},
   "source": [
    "### Loading the data set"
   ]
  },
  {
   "cell_type": "markdown",
   "metadata": {},
   "source": [
    "Getting the data from _Seaborn_ package and assigning it to variable `tips`."
   ]
  },
  {
   "cell_type": "code",
   "execution_count": 2,
   "metadata": {},
   "outputs": [],
   "source": [
    "# Loading the data set\n",
    "tips = sns.load_dataset(\"tips\")"
   ]
  },
  {
   "cell_type": "markdown",
   "metadata": {},
   "source": [
    "### The dataset basic properties and its integrity check "
   ]
  },
  {
   "cell_type": "markdown",
   "metadata": {},
   "source": [
    "Prior to actual data analysis, it is a good practice to check the data integrity, that is whether there are any empty cells or corrupted data. We will use for this purpose the Pandas function `info()`, which checks if there is any `null` value in _any_ column. This function also checks data type for each column, as well as number of each data types and number of observations (rows)."
   ]
  },
  {
   "cell_type": "code",
   "execution_count": null,
   "metadata": {},
   "outputs": [],
   "source": [
    "tips.info()"
   ]
  },
  {
   "cell_type": "markdown",
   "metadata": {},
   "source": [
    "Hence, there are no 'empty' cells in the dataset, and the above looks good. Perhaps the _size_ variable could be change to int8 type, so that the memory usage could be optimised, but considering the small size of the dataset, I am going to leave it as is.\n",
    "\n",
    "The initial checks show its integrity and I am satisfied to continue with further analysis."
   ]
  },
  {
   "cell_type": "markdown",
   "metadata": {},
   "source": [
    "___"
   ]
  },
  {
   "cell_type": "markdown",
   "metadata": {},
   "source": [
    "## Data analysis"
   ]
  },
  {
   "cell_type": "markdown",
   "metadata": {},
   "source": [
    "### 1. Descriptive statistical analysis"
   ]
  },
  {
   "cell_type": "markdown",
   "metadata": {},
   "source": [
    "#### Sneak peek into raw data"
   ]
  },
  {
   "cell_type": "markdown",
   "metadata": {},
   "source": [
    "Below are listed several first raws of data displayed. This listing allows to get initial impression on the dataset structure, as well as its attributes (columns) and data types of the variables."
   ]
  },
  {
   "cell_type": "code",
   "execution_count": null,
   "metadata": {},
   "outputs": [],
   "source": [
    "tips.head(3)"
   ]
  },
  {
   "cell_type": "markdown",
   "metadata": {},
   "source": [
    "For a quick glimpse into numeric values and basic statistical description, it is convenient to call `describe()` method. As a result it will show for each numerical attribute (column) information such as number of occurrence, minimum, median (50%) and maximum values, mean and standard deviation."
   ]
  },
  {
   "cell_type": "code",
   "execution_count": null,
   "metadata": {},
   "outputs": [],
   "source": [
    "# calling describe method; percentiles will be limited to 50%, to keep the result compact; adapted from https://www.geeksforgeeks.org/python-pandas-dataframe-describe-method/\n",
    "  \n",
    "tips.describe(percentiles = [0.5])"
   ]
  },
  {
   "cell_type": "markdown",
   "metadata": {},
   "source": [
    "Interesting to see that tips were given every time. Also, the percent of mean tips is $13.16\\%$ (=2.998279÷(19.785943+2.998279))."
   ]
  },
  {
   "cell_type": "markdown",
   "metadata": {},
   "source": [
    "Now, let's also see what are the unique values occur in each non-numeric (categorical) column, using Pandas' method `unique()`."
   ]
  },
  {
   "cell_type": "code",
   "execution_count": null,
   "metadata": {},
   "outputs": [],
   "source": [
    "print(\"sex:\\t\", sorted(tips.sex.unique()))\n",
    "print(\"smoker:\\t\", sorted(tips.smoker.unique()))"
   ]
  },
  {
   "cell_type": "code",
   "execution_count": null,
   "metadata": {},
   "outputs": [],
   "source": [
    "# List unique values in the categorical atributes\n",
    "# Adapted from https://chrisalbon.com/python/data_wrangling/pandas_list_unique_values_in_column/ and https://jovianlin.io/data-visualization-seaborn-part-1/.\n",
    "\n",
    "print(\"Values occuring in column 'sex':\\t\", sorted(tips.sex.unique()))\n",
    "print(\"Values occuring in column 'smoker':\\t\", sorted(tips.smoker.unique()))\n",
    "print(\"Values occuring in column 'day':\\t\", sorted(tips.day.unique()))\n",
    "print(\"Values occuring in column 'time':\\t\", sorted(tips.time.unique()))"
   ]
  },
  {
   "cell_type": "markdown",
   "metadata": {},
   "source": []
  },
  {
   "cell_type": "markdown",
   "metadata": {},
   "source": [
    "#### Raw data modeling"
   ]
  },
  {
   "cell_type": "markdown",
   "metadata": {},
   "source": [
    "It would be interesting to consider and evaluate the relationship between the data which is not explicitly given. For this purpose, let's model the dataset by creating new attributes. I am going to create the following:\n",
    "- `tip_ratio` - ratio of tip to bill,\n",
    "- `sum` - the sum of total bill and tip,\n",
    "- `percent` - tip as a percent of sum,\n",
    "- `bpp` - amount of total bill divided by number of people in the group,\n",
    "- `tpp` - amount of tip per person."
   ]
  },
  {
   "cell_type": "code",
   "execution_count": 9,
   "metadata": {},
   "outputs": [],
   "source": [
    "# new column created - percent of tip\n",
    "tips[\"tip_ratio\"] = tips[\"tip\"]/tips[\"total_bill\"] \n",
    "\n",
    "# new column created - sum of total bill and tip\n",
    "tips[\"sum\"] = tips[\"total_bill\"]+tips[\"tip\"] # appended at the end of the array\n",
    "\n",
    "# new column created - ratio of tip to sum\n",
    "tips[\"percent\"] = round(tips[\"tip\"]/tips[\"sum\"]*100, 2)\n",
    "\n",
    "# add column: bpp - bill per person\n",
    "tips[\"bpp\"] = tips[\"total_bill\"]/tips[\"size\"]\n",
    "\n",
    "# add column: tpp - tip per person\n",
    "tips[\"tpp\"] = tips[\"tip\"]/tips[\"size\"]\n"
   ]
  },
  {
   "cell_type": "markdown",
   "metadata": {},
   "source": [
    "Now, let's see what the dataset array looks like with the additional attributes. To keep it compact, just a few first rows."
   ]
  },
  {
   "cell_type": "code",
   "execution_count": 10,
   "metadata": {},
   "outputs": [
    {
     "data": {
      "text/html": [
       "<div>\n",
       "<style scoped>\n",
       "    .dataframe tbody tr th:only-of-type {\n",
       "        vertical-align: middle;\n",
       "    }\n",
       "\n",
       "    .dataframe tbody tr th {\n",
       "        vertical-align: top;\n",
       "    }\n",
       "\n",
       "    .dataframe thead th {\n",
       "        text-align: right;\n",
       "    }\n",
       "</style>\n",
       "<table border=\"1\" class=\"dataframe\">\n",
       "  <thead>\n",
       "    <tr style=\"text-align: right;\">\n",
       "      <th></th>\n",
       "      <th>total_bill</th>\n",
       "      <th>tip</th>\n",
       "      <th>sex</th>\n",
       "      <th>smoker</th>\n",
       "      <th>day</th>\n",
       "      <th>time</th>\n",
       "      <th>size</th>\n",
       "      <th>tip_ratio</th>\n",
       "      <th>sum</th>\n",
       "      <th>percent</th>\n",
       "      <th>bpp</th>\n",
       "      <th>tpp</th>\n",
       "    </tr>\n",
       "  </thead>\n",
       "  <tbody>\n",
       "    <tr>\n",
       "      <th>0</th>\n",
       "      <td>16.99</td>\n",
       "      <td>1.01</td>\n",
       "      <td>Female</td>\n",
       "      <td>No</td>\n",
       "      <td>Sun</td>\n",
       "      <td>Dinner</td>\n",
       "      <td>2</td>\n",
       "      <td>0.059447</td>\n",
       "      <td>18.0</td>\n",
       "      <td>5.61</td>\n",
       "      <td>8.495000</td>\n",
       "      <td>0.505000</td>\n",
       "    </tr>\n",
       "    <tr>\n",
       "      <th>1</th>\n",
       "      <td>10.34</td>\n",
       "      <td>1.66</td>\n",
       "      <td>Male</td>\n",
       "      <td>No</td>\n",
       "      <td>Sun</td>\n",
       "      <td>Dinner</td>\n",
       "      <td>3</td>\n",
       "      <td>0.160542</td>\n",
       "      <td>12.0</td>\n",
       "      <td>13.83</td>\n",
       "      <td>3.446667</td>\n",
       "      <td>0.553333</td>\n",
       "    </tr>\n",
       "  </tbody>\n",
       "</table>\n",
       "</div>"
      ],
      "text/plain": [
       "   total_bill   tip     sex smoker  day    time  size  tip_ratio   sum  \\\n",
       "0       16.99  1.01  Female     No  Sun  Dinner     2   0.059447  18.0   \n",
       "1       10.34  1.66    Male     No  Sun  Dinner     3   0.160542  12.0   \n",
       "\n",
       "   percent       bpp       tpp  \n",
       "0     5.61  8.495000  0.505000  \n",
       "1    13.83  3.446667  0.553333  "
      ]
     },
     "execution_count": 10,
     "metadata": {},
     "output_type": "execute_result"
    }
   ],
   "source": [
    "tips.head(2)"
   ]
  },
  {
   "cell_type": "markdown",
   "metadata": {},
   "source": [
    "Let's use the `describe()` method again for the upgraded data array."
   ]
  },
  {
   "cell_type": "code",
   "execution_count": 11,
   "metadata": {},
   "outputs": [
    {
     "data": {
      "text/html": [
       "<div>\n",
       "<style scoped>\n",
       "    .dataframe tbody tr th:only-of-type {\n",
       "        vertical-align: middle;\n",
       "    }\n",
       "\n",
       "    .dataframe tbody tr th {\n",
       "        vertical-align: top;\n",
       "    }\n",
       "\n",
       "    .dataframe thead th {\n",
       "        text-align: right;\n",
       "    }\n",
       "</style>\n",
       "<table border=\"1\" class=\"dataframe\">\n",
       "  <thead>\n",
       "    <tr style=\"text-align: right;\">\n",
       "      <th></th>\n",
       "      <th>total_bill</th>\n",
       "      <th>tip</th>\n",
       "      <th>size</th>\n",
       "      <th>tip_ratio</th>\n",
       "      <th>sum</th>\n",
       "      <th>percent</th>\n",
       "      <th>bpp</th>\n",
       "      <th>tpp</th>\n",
       "    </tr>\n",
       "  </thead>\n",
       "  <tbody>\n",
       "    <tr>\n",
       "      <th>count</th>\n",
       "      <td>244.000000</td>\n",
       "      <td>244.000000</td>\n",
       "      <td>244.000000</td>\n",
       "      <td>244.000000</td>\n",
       "      <td>244.000000</td>\n",
       "      <td>244.000000</td>\n",
       "      <td>244.00000</td>\n",
       "      <td>244.000000</td>\n",
       "    </tr>\n",
       "    <tr>\n",
       "      <th>mean</th>\n",
       "      <td>19.785943</td>\n",
       "      <td>2.998279</td>\n",
       "      <td>2.569672</td>\n",
       "      <td>0.160803</td>\n",
       "      <td>22.784221</td>\n",
       "      <td>13.643320</td>\n",
       "      <td>7.88823</td>\n",
       "      <td>1.212762</td>\n",
       "    </tr>\n",
       "    <tr>\n",
       "      <th>std</th>\n",
       "      <td>8.902412</td>\n",
       "      <td>1.383638</td>\n",
       "      <td>0.951100</td>\n",
       "      <td>0.061072</td>\n",
       "      <td>9.890116</td>\n",
       "      <td>4.058544</td>\n",
       "      <td>2.91435</td>\n",
       "      <td>0.491705</td>\n",
       "    </tr>\n",
       "    <tr>\n",
       "      <th>min</th>\n",
       "      <td>3.070000</td>\n",
       "      <td>1.000000</td>\n",
       "      <td>1.000000</td>\n",
       "      <td>0.035638</td>\n",
       "      <td>4.070000</td>\n",
       "      <td>3.440000</td>\n",
       "      <td>2.87500</td>\n",
       "      <td>0.400000</td>\n",
       "    </tr>\n",
       "    <tr>\n",
       "      <th>50%</th>\n",
       "      <td>17.795000</td>\n",
       "      <td>2.900000</td>\n",
       "      <td>2.000000</td>\n",
       "      <td>0.154770</td>\n",
       "      <td>20.600000</td>\n",
       "      <td>13.405000</td>\n",
       "      <td>7.25500</td>\n",
       "      <td>1.107500</td>\n",
       "    </tr>\n",
       "    <tr>\n",
       "      <th>max</th>\n",
       "      <td>50.810000</td>\n",
       "      <td>10.000000</td>\n",
       "      <td>6.000000</td>\n",
       "      <td>0.710345</td>\n",
       "      <td>60.810000</td>\n",
       "      <td>41.530000</td>\n",
       "      <td>20.27500</td>\n",
       "      <td>3.333333</td>\n",
       "    </tr>\n",
       "  </tbody>\n",
       "</table>\n",
       "</div>"
      ],
      "text/plain": [
       "       total_bill         tip        size   tip_ratio         sum     percent  \\\n",
       "count  244.000000  244.000000  244.000000  244.000000  244.000000  244.000000   \n",
       "mean    19.785943    2.998279    2.569672    0.160803   22.784221   13.643320   \n",
       "std      8.902412    1.383638    0.951100    0.061072    9.890116    4.058544   \n",
       "min      3.070000    1.000000    1.000000    0.035638    4.070000    3.440000   \n",
       "50%     17.795000    2.900000    2.000000    0.154770   20.600000   13.405000   \n",
       "max     50.810000   10.000000    6.000000    0.710345   60.810000   41.530000   \n",
       "\n",
       "             bpp         tpp  \n",
       "count  244.00000  244.000000  \n",
       "mean     7.88823    1.212762  \n",
       "std      2.91435    0.491705  \n",
       "min      2.87500    0.400000  \n",
       "50%      7.25500    1.107500  \n",
       "max     20.27500    3.333333  "
      ]
     },
     "execution_count": 11,
     "metadata": {},
     "output_type": "execute_result"
    }
   ],
   "source": [
    "# calling describe method; percentiles will be limited to 50%, to keep the result compact\n",
    "tips.describe(percentiles = [0.5])"
   ]
  },
  {
   "cell_type": "markdown",
   "metadata": {},
   "source": [
    "From the above we can get some interesting observations:\n",
    "1. on average for the entire dataset, the percent of tip is $13.64\\%$ (which is slightly higher than the value calculated above for mean tip and mean total bill),\n",
    "2. on average, total bill split equally in the group is 7.89,\n",
    "3. on average, tip per person is 1.21."
   ]
  },
  {
   "cell_type": "markdown",
   "metadata": {},
   "source": [
    "For comparison, I am going to apply a filter and see what is, for example, the average ratio tip to total bill among smokers."
   ]
  },
  {
   "cell_type": "code",
   "execution_count": 16,
   "metadata": {},
   "outputs": [
    {
     "name": "stdout",
     "output_type": "stream",
     "text": [
      "Average tip per smoking person:\t\t\t 1.2977956989247312\n",
      "Average total bill among smokers:\t\t 20.756344086021507\n",
      "Average ratio tip to total bill among smokers:\t 0.1631960446368779\n"
     ]
    }
   ],
   "source": [
    "# mean tip per smoking person\n",
    "print(\"Average tip per smoking person:\\t\\t\\t\", tips[tips[\"smoker\"] == \"Yes\"][\"tpp\"].mean()) # filtering by applying conditional check (smoker=yes)\n",
    "\n",
    "# mean total bill among smokers\n",
    "print(\"Average total bill among smokers:\\t\\t\", tips[tips[\"smoker\"] == \"Yes\"][\"total_bill\"].mean())\n",
    "\n",
    "# mean ratio among smokers\n",
    "tips[\"ratio_smoke\"] = tips[tips[\"smoker\"] == \"Yes\"][\"tip\"] / tips[tips[\"smoker\"] == \"Yes\"][\"total_bill\"]\n",
    "print(\"Average ratio tip to total bill among smokers:\\t\", tips[\"ratio_smoke\"].mean())"
   ]
  },
  {
   "cell_type": "markdown",
   "metadata": {},
   "source": [
    "Interesting. It turns out, the smokers are more generous and pay more for the service as well as give higher tips. On average the ratio tip to total bill among smokers is $16.32\\%$."
   ]
  },
  {
   "cell_type": "markdown",
   "metadata": {},
   "source": [
    "### 2. Graphical interpretation "
   ]
  },
  {
   "cell_type": "markdown",
   "metadata": {},
   "source": [
    "Some information can be revealed easily by visualising the data graphically on carefully crafted plots, according to the popular saying \"A single plot is worth a thousand of data points\". \n",
    "\n",
    "In this section, we will first look at the raw data in the set. The attempt made here is to visualise the figures, applying only built-in analytical tools. My intention is to draw attention to some interesting (in my view) and yet rather straightforward relationships between the data. Later on, I will try to apply more sophisticated analytical tools - specifically liner regression, with aim to reveal some less obvious relationships and patterns existing in the dataset."
   ]
  },
  {
   "cell_type": "markdown",
   "metadata": {},
   "source": [
    "For a better readability, let's change the Seaborn global plots style as follows (https://seaborn.pydata.org/tutorial/aesthetics.html, https://www.datacamp.com/community/tutorials/seaborn-python-tutorial)"
   ]
  },
  {
   "cell_type": "code",
   "execution_count": null,
   "metadata": {},
   "outputs": [],
   "source": [
    "sns.set_style(\"darkgrid\") # plot style\n",
    "sns.set_palette(\"muted\") # palette of colours\n",
    "\n",
    "# reference: https://seaborn.pydata.org/tutorial/color_palettes.html, https://stackoverflow.com/a/47955814"
   ]
  },
  {
   "cell_type": "markdown",
   "metadata": {},
   "source": [
    "#### Bar plots"
   ]
  },
  {
   "cell_type": "markdown",
   "metadata": {},
   "source": [
    "Bar plots (also histograms, although not being the same class of graphs, [reference](https://keydifferences.com/difference-between-histogram-and-bar-graph.html)) allow to easily display the categorical variables and showing their distributions, especially in comparison with one or more similar categories of data. "
   ]
  },
  {
   "cell_type": "markdown",
   "metadata": {},
   "source": [
    "To begin with, let us see the tips distribution on a histogram, using `distplot` method. With a large number of bins, the tips intervals will be more precise, and it still clearer than `countplot` method."
   ]
  },
  {
   "cell_type": "code",
   "execution_count": null,
   "metadata": {},
   "outputs": [],
   "source": [
    "# Display setting\n",
    "plt.subplots(figsize=(12,3))\n",
    "plt.legend(prop={'size': 10})\n",
    "plt.suptitle(\"Figure 1. How many times the same tip amount was offered.\", y=1.0, fontsize=14)\n",
    "#plt.xlabel('Tip')\n",
    "plt.ylabel('Count')\n",
    "\n",
    "# plot data and properties\n",
    "sns.distplot(tips['tip'], bins=100, kde=False, color=\"k\")\n",
    "\n",
    "plt.show()"
   ]
  },
  {
   "cell_type": "markdown",
   "metadata": {},
   "source": [
    "From the above figure (Fig.1) we can see that distinctly the most popular tip is 2 (units of currency), with a runner up at 3 (units of currency)."
   ]
  },
  {
   "cell_type": "markdown",
   "metadata": {},
   "source": [
    "In the below figur (Fig. 2), we will have two plots, showing the distribution of smokers and non-smokers among all the customers on the first plot, and the distribution of male and female customers. For this purpose, we will use `seaborn.countplot()` function ([Seaborn documentation](https://seaborn.pydata.org/generated/seaborn.countplot.html)). "
   ]
  },
  {
   "cell_type": "code",
   "execution_count": null,
   "metadata": {},
   "outputs": [],
   "source": [
    "# two plots on one figure\n",
    "fig, ax = plt.subplots(ncols=2, figsize=(12, 2))\n",
    "plt.suptitle(\"Figure 2. Quantitative comparison of the clients.\", y=1.1, fontsize=14) # https://matplotlib.org/3.1.1/api/_as_gen/matplotlib.pyplot.suptitle.html\n",
    "plt.subplots_adjust(left=None, bottom=None, right=None, top=None, wspace=.3, hspace=None)\n",
    "\n",
    "# plot 1 - amount of smokers and non-smokers\n",
    "sns.countplot(data=tips, y=\"day\", ax=ax[0]) # placing the categories (smoker in this case) on y-axis makes the bars oriented horizontally\n",
    "\n",
    "# plot #2 - amount of male and females\n",
    "sns.countplot(data=tips, y=\"time\", hue=\"smoker\", ax=ax[1]) # placing the categories (gender in this case) on y-axis makes the bars oriented horizontally\n",
    "plt.legend(bbox_to_anchor=(1.01, 1), loc=2, borderaxespad=0.) # legend put outside of the plot area\n",
    "\n",
    "fig.show()"
   ]
  },
  {
   "cell_type": "markdown",
   "metadata": {},
   "source": [
    "The below plots show the number of customers split onto days the restaurant was open. The second plot is further broken down by the size of the party (colour coded - see the legend)."
   ]
  },
  {
   "cell_type": "code",
   "execution_count": null,
   "metadata": {},
   "outputs": [],
   "source": [
    "# Display setting\n",
    "fig, ax = plt.subplots(ncols=2, figsize=(12, 2))\n",
    "plt.suptitle(\"Figure 3. Number of clients on each day.\", y=1.1, fontsize=14)\n",
    "plt.subplots_adjust(left=None, bottom=None, right=None, top=None, wspace=.3, hspace=None)\n",
    "\n",
    "\n",
    "# plot data and properties\n",
    "sns.countplot(data=tips, y=\"size\", ax=ax[0]) # number of clients on each day\n",
    "sns.countplot(data=tips, y=\"smoker\", hue=\"sex\", ax=ax[1]) # additional discrimination on party sizy\n",
    "plt.legend(bbox_to_anchor=(1.01, 1), loc=2, borderaxespad=0.) # Put the legend out of the figure, taken from https://stackoverflow.com/a/34579525\n",
    "\n",
    "plt.show()"
   ]
  },
  {
   "cell_type": "markdown",
   "metadata": {},
   "source": [
    "\n",
    "\n",
    "Barplot, below, is a convenient tool for illustrating categorical data. The top (or length for horizontal bars) of the bar represents the _mean_ (in the below plots, default) of the category (feature). _Seaborn_ allows also to show _confidence interval_ of the feature. Again, the default value of 95% is used in the plots below. The plots will be generated using the `seaborn.barplot()` function ([Seaborn docs](https://seaborn.pydata.org/generated/seaborn.barplot.html)).\n",
    "\n",
    "Below, we see amount of tip offered each day, further broken down on whether the client was a smoker or not."
   ]
  },
  {
   "cell_type": "code",
   "execution_count": null,
   "metadata": {},
   "outputs": [],
   "source": [
    "# adapted from https://medium.com/@neuralnets/data-visualization-with-python-and-seaborn-part-1-29c9478a8700\n",
    "fig, ax = plt.subplots(ncols=1, figsize=(6,3))\n",
    "plt.title('Figure 4. Mean amount of tips on each day.')\n",
    "\n",
    "# Mean amount of tip on each day\n",
    "sns.barplot(data = tips, x = \"day\", y = \"tip\", hue=\"smoker\")\n",
    "plt.legend(bbox_to_anchor=(1.01, 1), loc=2, borderaxespad=0.) # legend put outside of the plot area\n",
    "\n",
    "plt.show()"
   ]
  },
  {
   "cell_type": "markdown",
   "metadata": {},
   "source": [
    "#### Scatter plots  \n",
    "\n",
    "Scatter plots allow for relating two (or more) numerical variables. In the below plots, function `seaborn.relplot()` is used, with the default kind of the plot (scatter),  to show statistical relationship between variables. The values on x-axis are describe the total bill; y-axis - amount of tip received. This section is based on official Seaborn [tutorial](https://seaborn.pydata.org/tutorial/relational.html).\n"
   ]
  },
  {
   "cell_type": "code",
   "execution_count": null,
   "metadata": {},
   "outputs": [],
   "source": [
    "sns.relplot(data=tips, x=\"total_bill\", y=\"tip\", s=20, height=4, aspect=1)\n",
    "plt.title(\"Figure 5. Total bill to amount of tip.\")\n",
    "plt.show()"
   ]
  },
  {
   "cell_type": "markdown",
   "metadata": {},
   "source": [
    "The above plot may appear over crowded with data points. By adding another variable (for example _smoker_) it may become clearer and unveil a potential pattern, further separated by days."
   ]
  },
  {
   "cell_type": "code",
   "execution_count": null,
   "metadata": {},
   "outputs": [],
   "source": [
    "fig, ax = plt.subplots(ncols=2, sharey=True)\n",
    "plt.subplots_adjust(left=None, bottom=None, right=None, top=None, wspace=None, hspace=None)\n",
    "\n",
    "# plot #1 - Smokers\n",
    "sns.swarmplot(x=\"total_bill\", y=\"tip\", hue=\"smoker\", marker='.', data=tips[tips[\"smoker\"] == \"Yes\"], ax=ax[0])\n",
    "# plot #2 - Non-smokers\n",
    "sns.swarmplot(x=\"total_bill\", y=\"tip\", hue=\"smoker\", marker='.', data=tips[tips[\"smoker\"] == \"No\"], ax=ax[1])\n",
    "\n",
    "fig.show()"
   ]
  },
  {
   "cell_type": "code",
   "execution_count": null,
   "metadata": {},
   "outputs": [],
   "source": [
    "sns.relplot(data=tips, x=\"total_bill\", y=\"tip\", col=\"day\", row=\"smoker\", hue=\"smoker\", s=20, height=4, aspect=1)\n",
    "\n",
    "plt.show()"
   ]
  },
  {
   "cell_type": "markdown",
   "metadata": {},
   "source": [
    "Except for Sunday smokers plot, which looks a bit random, there seems to be a distinct relationship between the total bill and the amount of tip."
   ]
  },
  {
   "cell_type": "markdown",
   "metadata": {},
   "source": [
    "What about the amount of tips compared to the size of the party on given days? Can we see any pattern there? We will apply `catplot()` method to generate plots."
   ]
  },
  {
   "cell_type": "code",
   "execution_count": null,
   "metadata": {},
   "outputs": [],
   "source": [
    "sns.catplot(data=tips, x=\"size\", y=\"tip\", col=\"day\", s=4, height=4, aspect=1)\n",
    "plt.show()"
   ]
  },
  {
   "cell_type": "markdown",
   "metadata": {},
   "source": [
    "From the above plots, it appear there indeed is a relationship."
   ]
  },
  {
   "cell_type": "markdown",
   "metadata": {},
   "source": [
    "### 3.1 Linear regression"
   ]
  },
  {
   "cell_type": "markdown",
   "metadata": {},
   "source": [
    "#### Minimising the cost\n",
    "\n",
    "This part is based on the lecture concerning linear regression and the lecturer's [Notebook](https://github.com/ianmcloughlin/jupyter-teaching-notebooks/raw/master/simple-linear-regression.ipynb).\n",
    "\n",
    "In this section I will test the hypothesis question stated above (what is the relationship (if any) between total bill and amount of tips), by estimating a regression line between the variables. I will see if there is a relationship between the amount of tip and total bill, which could be accurately described with $ y = m x + 1 $ equation. \"The number $ m $ is the slope of the line. The slope is how much $ y $ increases by when $ x $ is increased by 1.0. The number $ c $ is the y-intercept of the line.\"\n",
    "\n",
    "Taken from [Notebook](https://github.com/ianmcloughlin/jupyter-teaching-notebooks/raw/master/simple-linear-regression.ipynb):\n",
    "\n",
    ">We want to calculate values of $m$ and $c$ that give the lowest value for the cost value above.\n",
    "For our given data set we can plot the cost value/function.\n",
    "Recall that the cost is:  \n",
    "> $$ Cost(m, c) = \\sum_i (y_i - mx_i - c)^2 $$\n",
    ">This is a function of two variables, $m$ and $c$, so a plot of it is three dimensional. (...)  \n",
    ">In the case of fitting a two-dimensional line to a few data points, we can easily calculate exactly the best values of $m$ and $c$. (...)  \n",
    "We first calculate the mean (average) values of our $x$ values and that of our $y$ values.\n",
    "Then we subtract the mean of $x$ from each of the $x$ values, and the mean of $y$ from each of the $y$ values.\n",
    "Then we take the *dot product* of the new $x$ values and the new $y$ values and divide it by the dot product of the new $x$ values with themselves.\n",
    "That gives us $m$, and we use $m$ to calculate $c$.  "
   ]
  },
  {
   "cell_type": "markdown",
   "metadata": {},
   "source": [
    "We will use `polyfit()` method to calculate $m$ and $c$."
   ]
  },
  {
   "cell_type": "code",
   "execution_count": null,
   "metadata": {},
   "outputs": [],
   "source": [
    "line_eq = np.polyfit(tips[\"total_bill\"], tips[\"tip\"], 1) # fiting a stright line (first degree); assign to a list type\n",
    "\n",
    "# m is stored in the first item of line_eq (index 0),\n",
    "# c is stored in the second item of line_eq (index 1).\n",
    "\n",
    "# Printing results with comment\n",
    "print(\"Value of m is\", line_eq[0], \", and value of c is\", line_eq[1],\".\")"
   ]
  },
  {
   "cell_type": "markdown",
   "metadata": {},
   "source": [
    "Putting the scatter plot and the calculated line in one plot."
   ]
  },
  {
   "cell_type": "code",
   "execution_count": null,
   "metadata": {},
   "outputs": [],
   "source": [
    "fig, ax = plt.subplots(ncols=2, figsize=(16,3))\n",
    "plt.suptitle('Figure xxx, Overlay', x=0.5, y=1.05, fontsize = 14)\n",
    "plt.subplots_adjust(left=None, bottom=None, right=None, top=None, wspace=0.1, hspace=None)\n",
    "\n",
    "# plot #1 - \n",
    "sns.relplot(data=tips, x=\"total_bill\", y=\"tip\", s=20, ax=ax[0])\n",
    "#ax[0].set_title('Relplot function')\n",
    "\n",
    "# plot #2 - \n",
    "x = np.linspace(tips[\"total_bill\"].min(), tips[\"total_bill\"].max(), 2) # 2 of intermediate steps of 'x' in boundries between minimum and maximum 'total_bill' values\n",
    "ax[0].plot(x, line_eq[0]*x + line_eq[1], 'r-'); # drawing the regression line with calculated minimum cost\n",
    "#sns.lineplot(data=(line_eq[0]*x + line_eq[1]), palette=(\"RdBu\"), ax=ax[0])\n",
    "\n",
    "# Set some reasonable plot limits.\n",
    "#plt.xlim([-1, 50])\n",
    "#plt.ylim([-1, 10])\n",
    "\n",
    "plt.show()"
   ]
  },
  {
   "cell_type": "markdown",
   "metadata": {},
   "source": [
    "#### Seaborn built-in functionality"
   ]
  },
  {
   "cell_type": "markdown",
   "metadata": {},
   "source": [
    "Based on the Seaborn [tutorial](https://seaborn.pydata.org/tutorial/regression.html).\n",
    "\n",
    "Seaborn module offers a built-on functionality for drawing linear regression line automatically. Once again (compare to Fig. 5 above), let's have a look at a plot showing total bill (x-axes) against tip. This time, using `seaborn.regplot()` method, and with additional regression line to the plot."
   ]
  },
  {
   "cell_type": "code",
   "execution_count": null,
   "metadata": {},
   "outputs": [],
   "source": [
    "sns.regplot(data=tips, x=\"total_bill\", y=\"tip\", ci=0, scatter_kws={\"s\": 3})\n",
    "sns.set(rc={'figure.figsize':(4,4)}) # plot size"
   ]
  },
  {
   "cell_type": "markdown",
   "metadata": {},
   "source": [
    "The above plot indeed seem to show a linear relationship between the two variables. Before verifying that (calculation the minimum _cost_ value), let as look at other, arguably more interesting plots that can be produced from the dataset.\n",
    "\n",
    "First, let us now consider the data with variables discrimination on day and whether the client was a smoker or not."
   ]
  },
  {
   "cell_type": "code",
   "execution_count": null,
   "metadata": {},
   "outputs": [],
   "source": [
    "lm = sns.lmplot(data=tips, x=\"total_bill\", y=\"tip\", col=\"day\", row=\"smoker\", hue=\"smoker\", height=4, aspect=1, scatter_kws={\"s\": 10})\n",
    "\n",
    "# axes limits; adapded from https://stackoverflow.com/a/25213438\n",
    "axes = lm.axes\n",
    "axes[0,0].set_ylim(0,11)\n",
    "axes[0,0].set_xlim(0,55)\n",
    "\n",
    "plt.show()"
   ]
  },
  {
   "cell_type": "markdown",
   "metadata": {},
   "source": [
    "An interesting results yield the next set of plots, showing a tendency of decrease tip amount per person for larger group of people."
   ]
  },
  {
   "cell_type": "code",
   "execution_count": null,
   "metadata": {},
   "outputs": [],
   "source": [
    "lm = sns.lmplot(data=tips, x=\"total_bill\", y=\"tpp\", col=\"size\", row=\"smoker\", hue=\"smoker\", height=4, aspect=.75, scatter_kws={\"s\": 4})\n",
    "\n",
    "axes = lm.axes\n",
    "axes[0,0].set_ylim(0,11)\n",
    "axes[0,0].set_xlim(0,55)\n",
    "\n",
    "plt.show()"
   ]
  },
  {
   "cell_type": "markdown",
   "metadata": {},
   "source": [
    "___\n",
    "### 3.2 k-nearest neighbours algorithm"
   ]
  },
  {
   "cell_type": "markdown",
   "metadata": {},
   "source": [
    "This section is based on the Programming for Data Analysis, GMIT, lecture videos and the lecturer's [Notebook](https://github.com/ianmcloughlin/jupyter-teaching-notebooks/raw/master/pandas-with-iris.ipynb).  \n",
    "\n",
    "Other consulted references:  \n",
    "[Machine Learning Basics with the K-Nearest Neighbors Algorithm](https://towardsdatascience.com/machine-learning-basics-with-the-k-nearest-neighbors-algorithm-6a6e71d01761)  \n",
    "[K-Nearest Neighbors Algorithm Using Python](https://www.edureka.co/blog/k-nearest-neighbors-algorithm/)\n",
    "[K-Nearest Neighbors Algorithm in Python and Scikit-Learn](https://stackabuse.com/k-nearest-neighbors-algorithm-in-python-and-scikit-learn/)\n",
    "\n",
    "_k-nearest neighbours_ is a supervised machine learning algorithms. It is used to solve a classification problem. It produces a discreet output (that is: either this or that class (there may be more classes), but not something in between). "
   ]
  },
  {
   "cell_type": "markdown",
   "metadata": {},
   "source": [
    "#### Importing SciKit Learn Library"
   ]
  },
  {
   "cell_type": "code",
   "execution_count": null,
   "metadata": {},
   "outputs": [],
   "source": [
    "import sklearn.neighbors as nei\n",
    "import sklearn.model_selection as mod"
   ]
  },
  {
   "cell_type": "code",
   "execution_count": null,
   "metadata": {},
   "outputs": [],
   "source": [
    "tips.head(2) # shape reminder: (244, 7)"
   ]
  },
  {
   "cell_type": "markdown",
   "metadata": {},
   "source": [
    "#### A glimpse into plot.  \n",
    "The below plot - relationship between tip size, total bill and the smoker - is deemed the most suitable for my analysis. The other variables combinations produce more fuzzy plots (a lot of overlapping data points)."
   ]
  },
  {
   "cell_type": "code",
   "execution_count": null,
   "metadata": {},
   "outputs": [],
   "source": [
    "#sns.pairplot(tips, hue=\"smoker\")\n",
    "#plt.show()"
   ]
  },
  {
   "cell_type": "markdown",
   "metadata": {},
   "source": [
    "Assigning `Inputs` and `Outputs`"
   ]
  },
  {
   "cell_type": "code",
   "execution_count": null,
   "metadata": {},
   "outputs": [],
   "source": [
    "inputs = tips[['total_bill', 'tip']]\n",
    "outputs = tips['sex']"
   ]
  },
  {
   "cell_type": "markdown",
   "metadata": {},
   "source": [
    "Classifier `knn`"
   ]
  },
  {
   "cell_type": "code",
   "execution_count": null,
   "metadata": {},
   "outputs": [],
   "source": [
    "knn = nei.KNeighborsClassifier(n_neighbors=5) # will consider 5 nearest neighbours"
   ]
  },
  {
   "cell_type": "markdown",
   "metadata": {},
   "source": [
    "Applying `fit` function"
   ]
  },
  {
   "cell_type": "code",
   "execution_count": null,
   "metadata": {},
   "outputs": [],
   "source": [
    "knn.fit(inputs, outputs)"
   ]
  },
  {
   "cell_type": "markdown",
   "metadata": {},
   "source": [
    "Evaluation of the results"
   ]
  },
  {
   "cell_type": "code",
   "execution_count": null,
   "metadata": {},
   "outputs": [],
   "source": [
    "(knn.predict(inputs) == outputs).sum() # Returns number of correctly recognised samples; total number of samples is 244"
   ]
  },
  {
   "cell_type": "markdown",
   "metadata": {},
   "source": [
    "Training and testing data sub-sets.\n",
    "\n",
    "The dataset is split randomly into:  \n",
    "1) training (75% of entire dataset size, i.e. 183), and  \n",
    "2) testing (25%, i.e. 61)"
   ]
  },
  {
   "cell_type": "code",
   "execution_count": null,
   "metadata": {},
   "outputs": [],
   "source": [
    "inputs_train, inputs_test, outputs_train, outputs_test = mod.train_test_split(inputs, outputs, test_size=0.25)"
   ]
  },
  {
   "cell_type": "code",
   "execution_count": null,
   "metadata": {},
   "outputs": [],
   "source": [
    "knn = nei.KNeighborsClassifier(n_neighbors=5)\n",
    "knn.fit(inputs_train, outputs_train)"
   ]
  },
  {
   "cell_type": "code",
   "execution_count": null,
   "metadata": {},
   "outputs": [],
   "source": [
    "# knn.predict(inputs_test) == outputs_test"
   ]
  },
  {
   "cell_type": "code",
   "execution_count": null,
   "metadata": {},
   "outputs": [],
   "source": [
    "answer = (knn.predict(inputs_test) == outputs_test).sum()\n",
    "answer"
   ]
  },
  {
   "cell_type": "markdown",
   "metadata": {},
   "source": [
    "Hence, the accuracy of the algorithm is the ratio of correctly recognised to actual number, and is shown below."
   ]
  },
  {
   "cell_type": "code",
   "execution_count": null,
   "metadata": {},
   "outputs": [],
   "source": [
    "print(\"%.02f\" % ((answer/61) * 100), \"%\")"
   ]
  },
  {
   "cell_type": "markdown",
   "metadata": {},
   "source": [
    "___\n",
    "## Findings and conclusion"
   ]
  },
  {
   "cell_type": "markdown",
   "metadata": {},
   "source": [
    "As we can see from the above plots, there seem to be a strong linear relationship between the amount of tip and the total bill for the entire dataset as well as for a number of sub-sets."
   ]
  },
  {
   "cell_type": "markdown",
   "metadata": {},
   "source": [
    "___\n",
    "## References"
   ]
  },
  {
   "cell_type": "markdown",
   "metadata": {},
   "source": []
  },
  {
   "cell_type": "markdown",
   "metadata": {},
   "source": [
    "___\n",
    "Andrzej Kocielski"
   ]
  }
 ],
 "metadata": {
  "kernelspec": {
   "display_name": "Python 3",
   "language": "python",
   "name": "python3"
  },
  "language_info": {
   "codemirror_mode": {
    "name": "ipython",
    "version": 3
   },
   "file_extension": ".py",
   "mimetype": "text/x-python",
   "name": "python",
   "nbconvert_exporter": "python",
   "pygments_lexer": "ipython3",
   "version": "3.7.5"
  }
 },
 "nbformat": 4,
 "nbformat_minor": 4
}
